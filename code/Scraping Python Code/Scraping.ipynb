{
 "cells": [
  {
   "cell_type": "markdown",
   "id": "4c32a00b-520a-4584-8f47-af7058046545",
   "metadata": {},
   "source": [
    "API Token: CyJT7ULynCrMBZxeXUTjMOGLiobbSwS2aV1PfcSu"
   ]
  },
  {
   "cell_type": "code",
   "execution_count": 3,
   "id": "efe7d193-188a-4eec-97b7-deeafde7795e",
   "metadata": {},
   "outputs": [],
   "source": [
    "import requests"
   ]
  },
  {
   "cell_type": "code",
   "execution_count": 93,
   "id": "77328fc9-e4aa-4954-878f-0629b2d74e8d",
   "metadata": {},
   "outputs": [],
   "source": [
    "download_url = 'https://ballchasing.com/api/replays/3636232e-cd91-4d95-96a2-376a6d996a02/file'\n",
    "token = 'CyJT7ULynCrMBZxeXUTjMOGLiobbSwS2aV1PfcSu'\n",
    "path = 'Downloaded replays/test.replay'"
   ]
  },
  {
   "cell_type": "code",
   "execution_count": 75,
   "id": "efe50944-77b2-496d-b822-9a005fdc8228",
   "metadata": {},
   "outputs": [],
   "source": [
    "## work in progress:\n",
    "# def download(path, token):\n",
    "#     files = open(path, 'wb')\n",
    "#     r = requests.get(download_url, headers={\n",
    "#                       'Authorization': token})\n",
    "\n",
    "#     if r.status_code == 200:\n",
    "#         files.write()\n",
    "#     elif r.status_code == 409:  # duplicate replay\n",
    "#         # you have the choice: either raise an error, or return the existing replay id\n",
    "#         return r.json()['id']\n",
    "#     else:\n",
    "#         # raise an error for other status codes (50x, ...)\n",
    "#         r.raise_for_status()\n",
    "\n"
   ]
  },
  {
   "cell_type": "code",
   "execution_count": 94,
   "id": "4ab5917c-bf0e-475c-922b-e9935ed49b0c",
   "metadata": {},
   "outputs": [],
   "source": [
    "files = open(path, 'w+b')\n",
    "r = requests.get(download_url, headers={'Authorization': token})\n",
    "files.write(r.content)\n",
    "files.flush()"
   ]
  }
 ],
 "metadata": {
  "kernelspec": {
   "display_name": "Python 3",
   "language": "python",
   "name": "python3"
  },
  "language_info": {
   "codemirror_mode": {
    "name": "ipython",
    "version": 3
   },
   "file_extension": ".py",
   "mimetype": "text/x-python",
   "name": "python",
   "nbconvert_exporter": "python",
   "pygments_lexer": "ipython3",
   "version": "3.8.8"
  }
 },
 "nbformat": 4,
 "nbformat_minor": 5
}
